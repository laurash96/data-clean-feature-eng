{
 "cells": [
  {
   "cell_type": "code",
   "execution_count": 104,
   "metadata": {},
   "outputs": [],
   "source": [
    "# Script to process data to create enriched dataset for future classification.\n",
    "# Laura Saldarriaga Higuita, laura.saldarriagah@gmail.com"
   ]
  },
  {
   "cell_type": "code",
   "execution_count": 105,
   "metadata": {},
   "outputs": [],
   "source": [
    "# Library imports\n",
    "\n",
    "# Data manipulation and visualization\n",
    "import numpy as np\n",
    "import pandas as pd\n",
    "import seaborn as sns\n",
    "import matplotlib.pyplot as plt\n",
    "\n",
    "# Feature association and importance\n",
    "from xgboost import XGBClassifier\n",
    "from scipy.stats import chi2_contingency\n",
    "from sklearn.preprocessing import LabelEncoder\n",
    "from sklearn.ensemble import RandomForestClassifier\n",
    "from sklearn.model_selection import train_test_split"
   ]
  },
  {
   "cell_type": "code",
   "execution_count": 106,
   "metadata": {},
   "outputs": [],
   "source": [
    "# Read leads dataset\n",
    "df_leads = pd.read_csv(\"./Data/leads.csv\", delimiter=\",\", low_memory=False, index_col=None, parse_dates=True)\n",
    "#df_leads.head()"
   ]
  },
  {
   "cell_type": "code",
   "execution_count": 107,
   "metadata": {},
   "outputs": [
    {
     "name": "stdout",
     "output_type": "stream",
     "text": [
      "<class 'pandas.core.frame.DataFrame'>\n",
      "RangeIndex: 61639 entries, 0 to 61638\n",
      "Data columns (total 10 columns):\n",
      " #   Column                      Non-Null Count  Dtype \n",
      "---  ------                      --------------  ----- \n",
      " 0   Id                          43972 non-null  object\n",
      " 1   First Name                  53240 non-null  object\n",
      " 2   Use Case                    44918 non-null  object\n",
      " 3   Source                      60293 non-null  object\n",
      " 4   Status                      61639 non-null  object\n",
      " 5   Discarded/Nurturing Reason  45169 non-null  object\n",
      " 6   Acquisition Campaign        25047 non-null  object\n",
      " 7   Created Date                61639 non-null  object\n",
      " 8   Converted                   61639 non-null  int64 \n",
      " 9   City                        34929 non-null  object\n",
      "dtypes: int64(1), object(9)\n",
      "memory usage: 4.7+ MB\n"
     ]
    }
   ],
   "source": [
    "# Leads dataset info\n",
    "df_leads.info()"
   ]
  },
  {
   "cell_type": "code",
   "execution_count": 108,
   "metadata": {},
   "outputs": [],
   "source": [
    "# Fill NaN for leads dataset according to the column content\n",
    "# Some columns were commented after checking the number of NaN values and relevance\n",
    "\n",
    "# Replace dictionary with new values\n",
    "replace_dict_leads = {\n",
    "                #'First Name': 'Unknown', \n",
    "                #'Use Case': 'Unknown', \n",
    "                #'City': 'Unknown', \n",
    "                #'Acquisition Campaign': 'Unknown',\n",
    "                'Discount code': 'No Discount', \n",
    "                'Loss Reason': 'No Loss'\n",
    "}\n",
    "\n",
    "# Fill with dict. values\n",
    "df_leads.fillna(replace_dict_leads, inplace=True)"
   ]
  },
  {
   "cell_type": "code",
   "execution_count": 109,
   "metadata": {},
   "outputs": [],
   "source": [
    "# Since the Id column is going to be used to merge both datasets, New_Id columns is created with the format Id_lead_1, Id_lead_2...\n",
    "# lead identifier was added so created Ids don't match with the offers' new Ids\n",
    "nan_id_rows = df_leads['Id'].isna()\n",
    "\n",
    "df_leads['New_Id'] = df_leads['Id'].fillna('id_lead_' + (nan_id_rows.groupby(nan_id_rows).cumcount() + 1).astype(str))\n",
    "df_leads = df_leads.drop('Id', axis=1)\n",
    "df_leads = df_leads[['New_Id'] + [col for col in df_leads.columns if col != 'New_Id']]\n",
    "#df_leads.head()"
   ]
  },
  {
   "cell_type": "code",
   "execution_count": 110,
   "metadata": {},
   "outputs": [],
   "source": [
    "# Read offers dataset\n",
    "df_offers = pd.read_csv(\"./Data/offers.csv\", delimiter=\",\", low_memory=False, index_col=None, parse_dates=True)\n",
    "#df_offers.head()"
   ]
  },
  {
   "cell_type": "code",
   "execution_count": 111,
   "metadata": {},
   "outputs": [
    {
     "name": "stdout",
     "output_type": "stream",
     "text": [
      "<class 'pandas.core.frame.DataFrame'>\n",
      "RangeIndex: 6130 entries, 0 to 6129\n",
      "Data columns (total 9 columns):\n",
      " #   Column         Non-Null Count  Dtype  \n",
      "---  ------         --------------  -----  \n",
      " 0   Id             4962 non-null   object \n",
      " 1   Use Case       6093 non-null   object \n",
      " 2   Status         6130 non-null   object \n",
      " 3   Created Date   6130 non-null   object \n",
      " 4   Close Date     6130 non-null   object \n",
      " 5   Price          5765 non-null   float64\n",
      " 6   Discount code  4431 non-null   object \n",
      " 7   Pain           5261 non-null   object \n",
      " 8   Loss Reason    2364 non-null   object \n",
      "dtypes: float64(1), object(8)\n",
      "memory usage: 431.1+ KB\n"
     ]
    }
   ],
   "source": [
    "# Offers dataset info\n",
    "df_offers.info()"
   ]
  },
  {
   "cell_type": "code",
   "execution_count": 112,
   "metadata": {},
   "outputs": [
    {
     "data": {
      "text/html": [
       "<div>\n",
       "<style scoped>\n",
       "    .dataframe tbody tr th:only-of-type {\n",
       "        vertical-align: middle;\n",
       "    }\n",
       "\n",
       "    .dataframe tbody tr th {\n",
       "        vertical-align: top;\n",
       "    }\n",
       "\n",
       "    .dataframe thead th {\n",
       "        text-align: right;\n",
       "    }\n",
       "</style>\n",
       "<table border=\"1\" class=\"dataframe\">\n",
       "  <thead>\n",
       "    <tr style=\"text-align: right;\">\n",
       "      <th></th>\n",
       "      <th>New_Id</th>\n",
       "      <th>Use Case</th>\n",
       "      <th>Status</th>\n",
       "      <th>Created Date</th>\n",
       "      <th>Close Date</th>\n",
       "      <th>Price</th>\n",
       "      <th>Discount code</th>\n",
       "      <th>Pain</th>\n",
       "      <th>Loss Reason</th>\n",
       "    </tr>\n",
       "  </thead>\n",
       "  <tbody>\n",
       "    <tr>\n",
       "      <th>0</th>\n",
       "      <td>doqyhjtv</td>\n",
       "      <td>Educational Seminars</td>\n",
       "      <td>Closed Won</td>\n",
       "      <td>2019-11-17</td>\n",
       "      <td>2019-11-17</td>\n",
       "      <td>300.0</td>\n",
       "      <td>SAVEMORE50</td>\n",
       "      <td>operations</td>\n",
       "      <td>NaN</td>\n",
       "    </tr>\n",
       "    <tr>\n",
       "      <th>1</th>\n",
       "      <td>id_offer_1</td>\n",
       "      <td>Sports Events</td>\n",
       "      <td>Closed Lost</td>\n",
       "      <td>2019-11-24</td>\n",
       "      <td>2019-11-25</td>\n",
       "      <td>150.0</td>\n",
       "      <td>NaN</td>\n",
       "      <td>operations</td>\n",
       "      <td>price</td>\n",
       "    </tr>\n",
       "    <tr>\n",
       "      <th>2</th>\n",
       "      <td>id_offer_2</td>\n",
       "      <td>Sports Events</td>\n",
       "      <td>Closed Lost</td>\n",
       "      <td>2019-11-24</td>\n",
       "      <td>2019-11-25</td>\n",
       "      <td>768.0</td>\n",
       "      <td>HALFYEAR20G</td>\n",
       "      <td>operations</td>\n",
       "      <td>no response</td>\n",
       "    </tr>\n",
       "    <tr>\n",
       "      <th>3</th>\n",
       "      <td>cturqi48</td>\n",
       "      <td>Corporate Events</td>\n",
       "      <td>Closed Won</td>\n",
       "      <td>2019-05-07</td>\n",
       "      <td>2019-05-07</td>\n",
       "      <td>240.0</td>\n",
       "      <td>DISCOUNT50POWER</td>\n",
       "      <td>financial control</td>\n",
       "      <td>NaN</td>\n",
       "    </tr>\n",
       "    <tr>\n",
       "      <th>4</th>\n",
       "      <td>id_offer_3</td>\n",
       "      <td>Sports Events</td>\n",
       "      <td>Closed Lost</td>\n",
       "      <td>2019-11-17</td>\n",
       "      <td>2019-11-25</td>\n",
       "      <td>240.0</td>\n",
       "      <td>SAVEMONTH50G</td>\n",
       "      <td>financial control</td>\n",
       "      <td>no response</td>\n",
       "    </tr>\n",
       "  </tbody>\n",
       "</table>\n",
       "</div>"
      ],
      "text/plain": [
       "       New_Id              Use Case       Status Created Date  Close Date  \\\n",
       "0    doqyhjtv  Educational Seminars   Closed Won   2019-11-17  2019-11-17   \n",
       "1  id_offer_1         Sports Events  Closed Lost   2019-11-24  2019-11-25   \n",
       "2  id_offer_2         Sports Events  Closed Lost   2019-11-24  2019-11-25   \n",
       "3    cturqi48      Corporate Events   Closed Won   2019-05-07  2019-05-07   \n",
       "4  id_offer_3         Sports Events  Closed Lost   2019-11-17  2019-11-25   \n",
       "\n",
       "   Price    Discount code               Pain  Loss Reason  \n",
       "0  300.0       SAVEMORE50         operations          NaN  \n",
       "1  150.0              NaN         operations        price  \n",
       "2  768.0      HALFYEAR20G         operations  no response  \n",
       "3  240.0  DISCOUNT50POWER  financial control          NaN  \n",
       "4  240.0     SAVEMONTH50G  financial control  no response  "
      ]
     },
     "execution_count": 112,
     "metadata": {},
     "output_type": "execute_result"
    }
   ],
   "source": [
    "# Since the Id column is going to be used to merge both datasets, New_Id columns is created with the format Id_offer_1, Id_offer_2...\n",
    "# offer identifier was added so created Ids don't match with the leads' new Ids\n",
    "nan_id_rows = df_offers['Id'].isna()\n",
    "\n",
    "df_offers['New_Id'] = df_offers['Id'].fillna('id_offer_' + (nan_id_rows.groupby(nan_id_rows).cumcount() + 1).astype(str))\n",
    "df_offers = df_offers.drop('Id', axis=1)\n",
    "df_offers = df_offers[['New_Id'] + [col for col in df_offers.columns if col != 'New_Id']]\n",
    "df_offers.head()"
   ]
  },
  {
   "cell_type": "code",
   "execution_count": 113,
   "metadata": {},
   "outputs": [],
   "source": [
    "# Fill NaN for offers dataset according to the column content\n",
    "\n",
    "# Replace dictionary with new values\n",
    "replace_dict_offers = {'Discount code': 'No Discount', \n",
    "                        'Loss Reason': 'No Loss'\n",
    "                        }\n",
    "\n",
    "# Fill with dict. values\n",
    "df_offers.fillna(replace_dict_offers, inplace=True)\n",
    "\n",
    "#df_offers.head()"
   ]
  },
  {
   "cell_type": "code",
   "execution_count": 114,
   "metadata": {},
   "outputs": [],
   "source": [
    "# Convert dates to datetime format\n",
    "df_leads['Created Date'] = pd.to_datetime(df_leads['Created Date'])\n",
    "df_offers['Created Date'] = pd.to_datetime(df_offers['Created Date'])\n",
    "df_offers['Close Date'] = pd.to_datetime(df_offers['Close Date'])"
   ]
  },
  {
   "cell_type": "code",
   "execution_count": 115,
   "metadata": {},
   "outputs": [],
   "source": [
    "# Feature Engineering\n",
    "\n",
    "# Calculate Lead Age (Time between lead creation and the maximum available date) and create new column\n",
    "reference_date = df_leads['Created Date'].max()\n",
    "df_leads['Lead Age'] = (reference_date - df_leads['Created Date']).dt.days\n",
    "\n",
    "# Create new column with Month\n",
    "df_leads['Lead Month'] = df_leads['Created Date'].dt.month\n",
    "\n",
    "#df_leads.head()"
   ]
  },
  {
   "cell_type": "code",
   "execution_count": 116,
   "metadata": {},
   "outputs": [],
   "source": [
    "# Join datasets on 'New_Id' column, keeping all offers data\n",
    "merged_df = pd.merge(df_leads, df_offers, on='New_Id', how='right', suffixes=('_lead', '_offer'))\n",
    "#merged_df.shape[0]"
   ]
  },
  {
   "cell_type": "code",
   "execution_count": 117,
   "metadata": {},
   "outputs": [
    {
     "name": "stdout",
     "output_type": "stream",
     "text": [
      "Number of times the result is negative: 531\n"
     ]
    }
   ],
   "source": [
    "# Calculate days between lead creation and offer creation\n",
    "merged_df['Days Lead Offer'] = (merged_df['Created Date_offer'] - merged_df['Created Date_lead']).dt.days\n",
    "negative_days_count = (merged_df['Days Lead Offer'] < 0).sum()\n",
    "#print(\"Number of times the result is negative:\", negative_days_count)\n",
    "\n",
    "# Why are some lead creation dates happening after the offer creation?\n",
    "# This is an answer that I think I need. Is this a data error? I decided to replace those values with -1, as well as in the NaN case. To differenciate. \n",
    "# Although it would be necessary to understand the reason behind this\n",
    "merged_df['Days Lead Offer'] = np.where(merged_df['Days Lead Offer'] < 0, -1, merged_df['Days Lead Offer'])\n",
    "\n",
    "# Replace NaN in 'Days Lead Offer' with a large number to indicate no conversion was made\n",
    "merged_df['Days Lead Offer'].fillna(-1, inplace=True)\n",
    "\n",
    "# Calculate the duration between offer creation and offer close\n",
    "merged_df['Days Offer Close'] = (merged_df['Close Date'] - merged_df['Created Date_offer']).dt.days\n",
    "negative_days_offer_count = (merged_df['Days Offer Close'] < 0).sum()\n",
    "print(\"Number of times the result is negative:\", negative_days_offer_count)\n",
    "\n",
    "# Why are some close offer dates happening before the offer creation?\n",
    "# Similar to the previous approach I decided to replace those values with -1\n",
    "merged_df['Days Offer Close'] = np.where(merged_df['Days Offer Close'] < 0, -1, merged_df['Days Offer Close'])\n",
    "\n",
    "# Replace NaN in 'Days Lead Offer' with a large number to indicate no conversion was made\n",
    "merged_df['Days Offer Close'].fillna(-1, inplace=True)\n",
    "\n",
    "#merged_df.head()"
   ]
  },
  {
   "cell_type": "code",
   "execution_count": 118,
   "metadata": {},
   "outputs": [
    {
     "data": {
      "text/html": [
       "<div>\n",
       "<style scoped>\n",
       "    .dataframe tbody tr th:only-of-type {\n",
       "        vertical-align: middle;\n",
       "    }\n",
       "\n",
       "    .dataframe tbody tr th {\n",
       "        vertical-align: top;\n",
       "    }\n",
       "\n",
       "    .dataframe thead th {\n",
       "        text-align: right;\n",
       "    }\n",
       "</style>\n",
       "<table border=\"1\" class=\"dataframe\">\n",
       "  <thead>\n",
       "    <tr style=\"text-align: right;\">\n",
       "      <th></th>\n",
       "      <th>Created Date_lead</th>\n",
       "      <th>Converted</th>\n",
       "      <th>Lead Age</th>\n",
       "      <th>Lead Month</th>\n",
       "      <th>Created Date_offer</th>\n",
       "      <th>Close Date</th>\n",
       "      <th>Price</th>\n",
       "      <th>Days Lead Offer</th>\n",
       "      <th>Days Offer Close</th>\n",
       "    </tr>\n",
       "  </thead>\n",
       "  <tbody>\n",
       "    <tr>\n",
       "      <th>count</th>\n",
       "      <td>3801</td>\n",
       "      <td>3801.000000</td>\n",
       "      <td>3801.000000</td>\n",
       "      <td>3801.000000</td>\n",
       "      <td>6130</td>\n",
       "      <td>6130</td>\n",
       "      <td>5765.000000</td>\n",
       "      <td>6130.000000</td>\n",
       "      <td>6130.000000</td>\n",
       "    </tr>\n",
       "    <tr>\n",
       "      <th>mean</th>\n",
       "      <td>2019-03-21 20:39:35.374901248</td>\n",
       "      <td>0.995791</td>\n",
       "      <td>585.139174</td>\n",
       "      <td>7.011839</td>\n",
       "      <td>2019-03-31 08:02:16.247960832</td>\n",
       "      <td>2019-04-12 02:42:33.474714368</td>\n",
       "      <td>1303.754033</td>\n",
       "      <td>21.113214</td>\n",
       "      <td>22.239641</td>\n",
       "    </tr>\n",
       "    <tr>\n",
       "      <th>min</th>\n",
       "      <td>2018-01-01 00:00:00</td>\n",
       "      <td>0.000000</td>\n",
       "      <td>0.000000</td>\n",
       "      <td>1.000000</td>\n",
       "      <td>2018-01-01 00:00:00</td>\n",
       "      <td>2013-12-09 00:00:00</td>\n",
       "      <td>0.000000</td>\n",
       "      <td>-1.000000</td>\n",
       "      <td>-1.000000</td>\n",
       "    </tr>\n",
       "    <tr>\n",
       "      <th>25%</th>\n",
       "      <td>2018-10-19 00:00:00</td>\n",
       "      <td>1.000000</td>\n",
       "      <td>420.000000</td>\n",
       "      <td>4.000000</td>\n",
       "      <td>2018-10-23 00:00:00</td>\n",
       "      <td>2018-11-14 00:00:00</td>\n",
       "      <td>240.000000</td>\n",
       "      <td>-1.000000</td>\n",
       "      <td>0.000000</td>\n",
       "    </tr>\n",
       "    <tr>\n",
       "      <th>50%</th>\n",
       "      <td>2019-04-07 00:00:00</td>\n",
       "      <td>1.000000</td>\n",
       "      <td>569.000000</td>\n",
       "      <td>7.000000</td>\n",
       "      <td>2019-04-23 00:00:00</td>\n",
       "      <td>2019-04-25 00:00:00</td>\n",
       "      <td>360.000000</td>\n",
       "      <td>0.000000</td>\n",
       "      <td>0.000000</td>\n",
       "    </tr>\n",
       "    <tr>\n",
       "      <th>75%</th>\n",
       "      <td>2019-09-03 00:00:00</td>\n",
       "      <td>1.000000</td>\n",
       "      <td>739.000000</td>\n",
       "      <td>10.000000</td>\n",
       "      <td>2019-09-09 00:00:00</td>\n",
       "      <td>2019-09-22 00:00:00</td>\n",
       "      <td>768.000000</td>\n",
       "      <td>5.000000</td>\n",
       "      <td>9.000000</td>\n",
       "    </tr>\n",
       "    <tr>\n",
       "      <th>max</th>\n",
       "      <td>2020-10-27 00:00:00</td>\n",
       "      <td>1.000000</td>\n",
       "      <td>1030.000000</td>\n",
       "      <td>12.000000</td>\n",
       "      <td>2020-10-27 00:00:00</td>\n",
       "      <td>2020-10-27 00:00:00</td>\n",
       "      <td>399304.000000</td>\n",
       "      <td>812.000000</td>\n",
       "      <td>600.000000</td>\n",
       "    </tr>\n",
       "    <tr>\n",
       "      <th>std</th>\n",
       "      <td>NaN</td>\n",
       "      <td>0.064752</td>\n",
       "      <td>194.145179</td>\n",
       "      <td>3.404195</td>\n",
       "      <td>NaN</td>\n",
       "      <td>NaN</td>\n",
       "      <td>10378.953376</td>\n",
       "      <td>59.520592</td>\n",
       "      <td>56.804581</td>\n",
       "    </tr>\n",
       "  </tbody>\n",
       "</table>\n",
       "</div>"
      ],
      "text/plain": [
       "                   Created Date_lead    Converted     Lead Age   Lead Month  \\\n",
       "count                           3801  3801.000000  3801.000000  3801.000000   \n",
       "mean   2019-03-21 20:39:35.374901248     0.995791   585.139174     7.011839   \n",
       "min              2018-01-01 00:00:00     0.000000     0.000000     1.000000   \n",
       "25%              2018-10-19 00:00:00     1.000000   420.000000     4.000000   \n",
       "50%              2019-04-07 00:00:00     1.000000   569.000000     7.000000   \n",
       "75%              2019-09-03 00:00:00     1.000000   739.000000    10.000000   \n",
       "max              2020-10-27 00:00:00     1.000000  1030.000000    12.000000   \n",
       "std                              NaN     0.064752   194.145179     3.404195   \n",
       "\n",
       "                  Created Date_offer                     Close Date  \\\n",
       "count                           6130                           6130   \n",
       "mean   2019-03-31 08:02:16.247960832  2019-04-12 02:42:33.474714368   \n",
       "min              2018-01-01 00:00:00            2013-12-09 00:00:00   \n",
       "25%              2018-10-23 00:00:00            2018-11-14 00:00:00   \n",
       "50%              2019-04-23 00:00:00            2019-04-25 00:00:00   \n",
       "75%              2019-09-09 00:00:00            2019-09-22 00:00:00   \n",
       "max              2020-10-27 00:00:00            2020-10-27 00:00:00   \n",
       "std                              NaN                            NaN   \n",
       "\n",
       "               Price  Days Lead Offer  Days Offer Close  \n",
       "count    5765.000000      6130.000000       6130.000000  \n",
       "mean     1303.754033        21.113214         22.239641  \n",
       "min         0.000000        -1.000000         -1.000000  \n",
       "25%       240.000000        -1.000000          0.000000  \n",
       "50%       360.000000         0.000000          0.000000  \n",
       "75%       768.000000         5.000000          9.000000  \n",
       "max    399304.000000       812.000000        600.000000  \n",
       "std     10378.953376        59.520592         56.804581  "
      ]
     },
     "execution_count": 118,
     "metadata": {},
     "output_type": "execute_result"
    }
   ],
   "source": [
    "# Next steps are used to create categories based on Price ranges\n",
    "\n",
    "# See min and max values for Price column\n",
    "merged_df.describe()"
   ]
  },
  {
   "cell_type": "code",
   "execution_count": 119,
   "metadata": {},
   "outputs": [],
   "source": [
    "# Since Price was identified (further steps) as a feature of significant importance, 365 null values were imputed using the median\n",
    "# Mean was not used since data was skewed and there were outliers with really high values\n",
    "\n",
    "median_price = merged_df['Price'].median()\n",
    "merged_df['Price'].fillna(median_price, inplace=True)"
   ]
  },
  {
   "cell_type": "code",
   "execution_count": 120,
   "metadata": {},
   "outputs": [
    {
     "data": {
      "image/png": "[encoded data removed]",
      "text/plain": [
       "<Figure size 700x400 with 1 Axes>"
      ]
     },
     "metadata": {},
     "output_type": "display_data"
    }
   ],
   "source": [
    "# See Price distribution with histogram\n",
    "plt.figure(figsize=(7, 4))\n",
    "plt.hist(merged_df['Price'], bins=30, color='blue', alpha=0.7)\n",
    "plt.title('Distribution of Price')\n",
    "plt.xlabel('Price')\n",
    "plt.ylabel('Frequency')\n",
    "plt.grid(True)\n",
    "plt.show()"
   ]
  },
  {
   "cell_type": "code",
   "execution_count": 121,
   "metadata": {},
   "outputs": [
    {
     "data": {
      "image/png": "[encoded data removed]",
      "text/plain": [
       "<Figure size 700x400 with 1 Axes>"
      ]
     },
     "metadata": {},
     "output_type": "display_data"
    }
   ],
   "source": [
    "# See Price distribution with boxplot\n",
    "plt.figure(figsize=(7, 4))\n",
    "sns.boxplot(x=merged_df['Price'])\n",
    "plt.title('Box Plot of Price')\n",
    "plt.xlabel('Price')\n",
    "plt.show()"
   ]
  },
  {
   "cell_type": "code",
   "execution_count": 122,
   "metadata": {},
   "outputs": [],
   "source": [
    "# Add a column with price categories. Chosen values were 500, 5000 and 50000\n",
    "price_bins = [0, 500, 5000, 50000, float('inf')]\n",
    "price_labels = ['low', 'mid', 'high', 'extra_high']\n",
    "\n",
    "merged_df['Price Category'] = pd.cut(merged_df['Price'], bins=price_bins, labels=price_labels, include_lowest=True)"
   ]
  },
  {
   "cell_type": "code",
   "execution_count": 123,
   "metadata": {},
   "outputs": [
    {
     "name": "stdout",
     "output_type": "stream",
     "text": [
      "Column: 'New_Id' Number of NaN values: 0 Percentage of NaN values: 0.00%\n",
      "Column: 'First Name' Number of NaN values: 3158 Percentage of NaN values: 51.52%\n",
      "Column: 'Use Case_lead' Number of NaN values: 2394 Percentage of NaN values: 39.05%\n",
      "Column: 'Source' Number of NaN values: 2331 Percentage of NaN values: 38.03%\n",
      "Column: 'Status_lead' Number of NaN values: 2329 Percentage of NaN values: 37.99%\n",
      "Column: 'Discarded/Nurturing Reason' Number of NaN values: 6097 Percentage of NaN values: 99.46%\n",
      "Column: 'Acquisition Campaign' Number of NaN values: 5087 Percentage of NaN values: 82.99%\n",
      "Column: 'Created Date_lead' Number of NaN values: 2329 Percentage of NaN values: 37.99%\n",
      "Column: 'Converted' Number of NaN values: 2329 Percentage of NaN values: 37.99%\n",
      "Column: 'City' Number of NaN values: 3609 Percentage of NaN values: 58.87%\n",
      "Column: 'Lead Age' Number of NaN values: 2329 Percentage of NaN values: 37.99%\n",
      "Column: 'Lead Month' Number of NaN values: 2329 Percentage of NaN values: 37.99%\n",
      "Column: 'Use Case_offer' Number of NaN values: 37 Percentage of NaN values: 0.60%\n",
      "Column: 'Status_offer' Number of NaN values: 0 Percentage of NaN values: 0.00%\n",
      "Column: 'Created Date_offer' Number of NaN values: 0 Percentage of NaN values: 0.00%\n",
      "Column: 'Close Date' Number of NaN values: 0 Percentage of NaN values: 0.00%\n",
      "Column: 'Price' Number of NaN values: 0 Percentage of NaN values: 0.00%\n",
      "Column: 'Discount code' Number of NaN values: 0 Percentage of NaN values: 0.00%\n",
      "Column: 'Pain' Number of NaN values: 869 Percentage of NaN values: 14.18%\n",
      "Column: 'Loss Reason' Number of NaN values: 0 Percentage of NaN values: 0.00%\n",
      "Column: 'Days Lead Offer' Number of NaN values: 0 Percentage of NaN values: 0.00%\n",
      "Column: 'Days Offer Close' Number of NaN values: 0 Percentage of NaN values: 0.00%\n",
      "Column: 'Price Category' Number of NaN values: 0 Percentage of NaN values: 0.00%\n"
     ]
    }
   ],
   "source": [
    "# Check NaN values (number and percentage) in the new dataset\n",
    "for column in merged_df.columns:\n",
    "    nan_count = merged_df[column].isna().sum()\n",
    "    total_count = len(merged_df)\n",
    "    nan_percentage = (nan_count / total_count) * 100\n",
    "\n",
    "    print(f\"Column: '{column}'\", f\"Number of NaN values: {nan_count}\", f\"Percentage of NaN values: {nan_percentage:.2f}%\")"
   ]
  },
  {
   "cell_type": "code",
   "execution_count": 124,
   "metadata": {},
   "outputs": [
    {
     "data": {
      "text/plain": [
       "Index(['New_Id', 'Use Case_lead', 'Source', 'Status_lead', 'Created Date_lead',\n",
       "       'Converted', 'Lead Age', 'Lead Month', 'Use Case_offer', 'Status_offer',\n",
       "       'Created Date_offer', 'Close Date', 'Price', 'Discount code', 'Pain',\n",
       "       'Loss Reason', 'Days Lead Offer', 'Days Offer Close', 'Price Category'],\n",
       "      dtype='object')"
      ]
     },
     "execution_count": 124,
     "metadata": {},
     "output_type": "execute_result"
    }
   ],
   "source": [
    "# Drop columns with high percentage of NaN values (Discarded/Nurturing Reason) and the names. columns with less than 50% were kept, but importance will be analyzed\n",
    "# In case importance is low, they won't be used to avoid bias\n",
    "\n",
    "cols_to_drop = [\"First Name\", \"Discarded/Nurturing Reason\", \"Acquisition Campaign\", \"City\"]\n",
    "merged_df.drop(cols_to_drop, axis=1, inplace= True)\n",
    "\n",
    "# Resulting columns\n",
    "merged_df.columns"
   ]
  },
  {
   "cell_type": "code",
   "execution_count": 125,
   "metadata": {},
   "outputs": [
    {
     "data": {
      "image/png": "[encoded data removed]",
      "text/plain": [
       "<Figure size 800x600 with 2 Axes>"
      ]
     },
     "metadata": {},
     "output_type": "display_data"
    }
   ],
   "source": [
    "# Calculate Cramér's to check association between the pairs of categorical variables\n",
    "# This is made for two reasons: see the most associated variables to Status_offer (target) and\n",
    "# to see possible high associations that could lead to issues of multicollinearity\n",
    "\n",
    "def cramers_v(x, y):\n",
    "    confusion_matrix = pd.crosstab(x, y)\n",
    "    chi2, _, _, _ = chi2_contingency(confusion_matrix)\n",
    "    n = confusion_matrix.sum().sum()\n",
    "    phi2 = chi2 / n\n",
    "    r, k = confusion_matrix.shape\n",
    "    phi2corr = max(0, phi2 - ((k-1)*(r-1))/(n-1))\n",
    "    rcorr = r - ((r-1)**2)/(n-1)\n",
    "    kcorr = k - ((k-1)**2)/(n-1)\n",
    "    return np.sqrt(phi2corr / min((kcorr-1), (rcorr-1)))\n",
    "\n",
    "# Categorical columns\n",
    "categorical_columns = ['Use Case_lead', 'Source', 'Status_lead', 'Converted',\n",
    "       'Lead Month', 'Use Case_offer', 'Status_offer','Price Category','Discount code', 'Pain',\n",
    "       'Loss Reason']\n",
    "\n",
    "matrix_size = len(categorical_columns)\n",
    "cramers_matrix = np.zeros((matrix_size, matrix_size))\n",
    "\n",
    "# Fill the matrix with Cramér's V values\n",
    "for i, col1 in enumerate(categorical_columns):\n",
    "    for j, col2 in enumerate(categorical_columns):\n",
    "        if i != j:\n",
    "            correlation = cramers_v(merged_df[col1], merged_df[col2])\n",
    "            cramers_matrix[i, j] = correlation\n",
    "\n",
    "# Save as dataframe and plot heatmap\n",
    "cramers_df = pd.DataFrame(cramers_matrix, index=categorical_columns, columns=categorical_columns)\n",
    "\n",
    "plt.figure(figsize=(8, 6))\n",
    "sns.heatmap(cramers_df, annot=True, cmap=\"turbo\", fmt=\".2f\", linewidths=.5)\n",
    "plt.title(\"Cramér's V Heatmap\")\n",
    "plt.show()"
   ]
  },
  {
   "cell_type": "code",
   "execution_count": 126,
   "metadata": {},
   "outputs": [
    {
     "name": "stdout",
     "output_type": "stream",
     "text": [
      "value_counts_offer Use Case_offer\n",
      "Corporate Events          3487\n",
      "Educational Seminars      1339\n",
      "Sports Events             1025\n",
      "Wedding Planning           240\n",
      "Concerts and festivals       2\n",
      "Name: count, dtype: int64\n",
      "******\n",
      "value_counts_lead Use Case_lead\n",
      "Corporate Events          2384\n",
      "Educational Seminars       749\n",
      "Sports Events              598\n",
      "Wedding Planning             4\n",
      "Concerts and festivals       1\n",
      "Name: count, dtype: int64\n"
     ]
    }
   ],
   "source": [
    "# Due to high Association and being based on the same info, only one Use_case is going to be used\n",
    "\n",
    "#Check value counts to see which one has more useful information\n",
    "value_counts_offer = merged_df['Use Case_offer'].value_counts()\n",
    "value_counts_lead = merged_df['Use Case_lead'].value_counts()\n",
    "print(\"value_counts_offer\", value_counts_offer)\n",
    "print(\"******\")\n",
    "print(\"value_counts_lead\", value_counts_lead)\n",
    "\n",
    "#Since the offer has more known values, this column will remain and lead will be dropped"
   ]
  },
  {
   "cell_type": "code",
   "execution_count": 127,
   "metadata": {},
   "outputs": [],
   "source": [
    "# Drop Use Case_offer \n",
    "merged_df = merged_df.drop('Use Case_lead', axis=1)\n",
    "\n",
    "# Fill NaN for the merged dataset according to the column content\n",
    "\n",
    "# Replace dictionary with new values\n",
    "replace_dict_merged = {'Use Case_lead': 'Unknown', \n",
    "                       'Use Case_offer': 'Unknown',\n",
    "                       'Status_lead': 'Unknown',\n",
    "                       'Source': 'Unknown', \n",
    "                       'Pain' : 'Unknown',\n",
    "                       'Converted': '10000', \n",
    "}\n",
    "\n",
    "# Fill with dict. values\n",
    "merged_df.fillna(replace_dict_merged, inplace=True)\n",
    "#merged_df.head()"
   ]
  },
  {
   "cell_type": "code",
   "execution_count": 128,
   "metadata": {},
   "outputs": [
    {
     "name": "stdout",
     "output_type": "stream",
     "text": [
      "<class 'pandas.core.frame.DataFrame'>\n",
      "RangeIndex: 6130 entries, 0 to 6129\n",
      "Data columns (total 18 columns):\n",
      " #   Column              Non-Null Count  Dtype         \n",
      "---  ------              --------------  -----         \n",
      " 0   New_Id              6130 non-null   object        \n",
      " 1   Source              6130 non-null   object        \n",
      " 2   Status_lead         6130 non-null   object        \n",
      " 3   Created Date_lead   3801 non-null   datetime64[ns]\n",
      " 4   Converted           6130 non-null   object        \n",
      " 5   Lead Age            3801 non-null   float64       \n",
      " 6   Lead Month          3801 non-null   float64       \n",
      " 7   Use Case_offer      6130 non-null   object        \n",
      " 8   Status_offer        6130 non-null   object        \n",
      " 9   Created Date_offer  6130 non-null   datetime64[ns]\n",
      " 10  Close Date          6130 non-null   datetime64[ns]\n",
      " 11  Price               6130 non-null   float64       \n",
      " 12  Discount code       6130 non-null   object        \n",
      " 13  Pain                6130 non-null   object        \n",
      " 14  Loss Reason         6130 non-null   object        \n",
      " 15  Days Lead Offer     6130 non-null   float64       \n",
      " 16  Days Offer Close    6130 non-null   int64         \n",
      " 17  Price Category      6130 non-null   category      \n",
      "dtypes: category(1), datetime64[ns](3), float64(4), int64(1), object(9)\n",
      "memory usage: 820.5+ KB\n"
     ]
    }
   ],
   "source": [
    "# Check merged dataset info again\n",
    "merged_df.info()"
   ]
  },
  {
   "cell_type": "code",
   "execution_count": 129,
   "metadata": {},
   "outputs": [],
   "source": [
    "# A new dataset 'merged_df_importance' was created to see importance of features regarding Status_offer as a target variable for classification\n",
    "merged_df_importance = merged_df[['Source', 'Status_lead', 'Converted', 'Lead Age', \n",
    "                                  'Lead Month', 'Use Case_offer', 'Status_offer', 'Price', 'Discount code', \n",
    "                                  'Pain', 'Loss Reason', 'Days Lead Offer', 'Days Offer Close', 'Price Category']]\n",
    "\n",
    "#merged_df_importance.head()"
   ]
  },
  {
   "cell_type": "code",
   "execution_count": 130,
   "metadata": {},
   "outputs": [
    {
     "data": {
      "text/plain": [
       "[('Loss Reason', 0.5775766472219348),\n",
       " ('Discount code', 0.11054942399440032),\n",
       " ('Days Offer Close', 0.10022632908860774),\n",
       " ('Price', 0.05037739403046037),\n",
       " ('Lead Age', 0.0389222677729317),\n",
       " ('Use Case_offer', 0.02699877316583679),\n",
       " ('Pain', 0.026682249385606305),\n",
       " ('Days Lead Offer', 0.024714284896882197),\n",
       " ('Lead Month', 0.01978535337743098),\n",
       " ('Price Category', 0.0124041915859317),\n",
       " ('Source', 0.007388309809178328),\n",
       " ('Status_lead', 0.0024289468991989084),\n",
       " ('Converted', 0.001945828771599959)]"
      ]
     },
     "execution_count": 130,
     "metadata": {},
     "output_type": "execute_result"
    }
   ],
   "source": [
    "# Feature importance\n",
    "\n",
    "# RandomForestClassifier\n",
    "\n",
    "# Convert all columns to string type before encoding\n",
    "merged_df_importance = merged_df_importance.copy()\n",
    "\n",
    "for column in merged_df_importance.columns:\n",
    "    merged_df_importance[column] = merged_df_importance[column].astype(str)\n",
    "\n",
    "# Label encoding\n",
    "label_encoders = {}\n",
    "for column in merged_df_importance.columns:\n",
    "    if merged_df_importance[column].dtype == 'object':\n",
    "        label_encoders[column] = LabelEncoder()\n",
    "        merged_df_importance[column] = label_encoders[column].fit_transform(merged_df_importance[column])\n",
    "\n",
    "# Splitting the dataset into features (X) and the target variable (y)\n",
    "X = merged_df_importance.drop('Status_offer', axis=1)\n",
    "y = merged_df_importance['Status_offer']\n",
    "\n",
    "# Splitting data into training and testing sets\n",
    "X_train, X_test, y_train, y_test = train_test_split(X, y, test_size=0.2, random_state=42)\n",
    "\n",
    "# Instantiate and train the model\n",
    "rf_model = RandomForestClassifier(random_state=42)\n",
    "rf_model.fit(X_train, y_train)\n",
    "\n",
    "# Calculate feature importance\n",
    "feature_importance = rf_model.feature_importances_\n",
    "feature_names = X.columns\n",
    "\n",
    "# Combine feature names and importance scores\n",
    "features_and_importance = zip(feature_names, feature_importance)\n",
    "sorted_features_and_importance = sorted(features_and_importance, key=lambda x: x[1], reverse=True)\n",
    "\n",
    "# Sort first 15 features\n",
    "sorted_features_and_importance[:15]"
   ]
  },
  {
   "cell_type": "code",
   "execution_count": 131,
   "metadata": {},
   "outputs": [
    {
     "data": {
      "text/plain": [
       "[('Loss Reason', 0.83487934),\n",
       " ('Price Category', 0.027447296),\n",
       " ('Use Case_offer', 0.025169844),\n",
       " ('Days Offer Close', 0.016797367),\n",
       " ('Discount code', 0.016646678),\n",
       " ('Lead Age', 0.015421103),\n",
       " ('Days Lead Offer', 0.01270964),\n",
       " ('Price', 0.012483233),\n",
       " ('Lead Month', 0.011035089),\n",
       " ('Source', 0.010425767),\n",
       " ('Pain', 0.009936865),\n",
       " ('Status_lead', 0.007047811),\n",
       " ('Converted', 0.0)]"
      ]
     },
     "execution_count": 131,
     "metadata": {},
     "output_type": "execute_result"
    }
   ],
   "source": [
    "# XGBoost model\n",
    "\n",
    "X = merged_df_importance.drop('Status_offer', axis=1)\n",
    "y = merged_df_importance['Status_offer']\n",
    "\n",
    "X_train, X_test, y_train, y_test = train_test_split(X_train, y_train, test_size=0.7, random_state=42)\n",
    "\n",
    "# Instantiate the XGBoost model\n",
    "xgb_model = XGBClassifier(random_state=42)\n",
    "\n",
    "# Train the XGBoost model on the subset\n",
    "xgb_model.fit(X_train, y_train)\n",
    "\n",
    "# Feature importance from the XGBoost model trained on the subset\n",
    "xgb_feature_importance = xgb_model.feature_importances_\n",
    "xgb_feature_importance = zip(feature_names, xgb_feature_importance)\n",
    "sorted_xgb_features_and_importance = sorted(xgb_feature_importance, key=lambda x: x[1], reverse=True)\n",
    "\n",
    "# Sort first 15 features\n",
    "sorted_xgb_features_and_importance[:15]"
   ]
  },
  {
   "cell_type": "code",
   "execution_count": 132,
   "metadata": {},
   "outputs": [
    {
     "name": "stdout",
     "output_type": "stream",
     "text": [
      "Feature                   Importance (XGBoost) Features                  Importance (Random Forest)\n",
      "=============================================================================================\n",
      "Loss Reason               0.8348793387413025   Loss Reason               0.5775766472219348  \n",
      "Price Category            0.027447296306490898 Discount code             0.11054942399440032 \n",
      "Use Case_offer            0.025169843807816505 Days Offer Close          0.10022632908860774 \n",
      "Days Offer Close          0.016797367483377457 Price                     0.05037739403046037 \n",
      "Discount code             0.016646677628159523 Lead Age                  0.0389222677729317  \n",
      "Lead Age                  0.01542110275477171  Use Case_offer            0.02699877316583679 \n",
      "Days Lead Offer           0.012709639966487885 Pain                      0.026682249385606305\n",
      "Price                     0.012483232654631138 Days Lead Offer           0.024714284896882197\n",
      "Lead Month                0.011035089381039143 Lead Month                0.01978535337743098 \n",
      "Source                    0.010425766929984093 Price Category            0.0124041915859317  \n",
      "Pain                      0.009936865419149399 Source                    0.007388309809178328\n",
      "Status_lead               0.007047811057418585 Status_lead               0.0024289468991989084\n",
      "Converted                 0.0                  Converted                 0.001945828771599959\n"
     ]
    }
   ],
   "source": [
    "# Print top 15 features side by side to identify and select features by importance after Random Forest and XGBoost\n",
    "print(\"{:<25} {:<20} {:<25} {:<20}\".format(\"Feature\", \"Importance (XGBoost)\", \"Features\", \"Importance (Random Forest)\"))\n",
    "print(\"=\"*93)\n",
    "\n",
    "for subset_feature, all_feature in zip(sorted_xgb_features_and_importance[:15], sorted_features_and_importance[:15]):\n",
    "    print(\"{:<25} {:<20} {:<25} {:<20}\".format(subset_feature[0], subset_feature[1], all_feature[0], all_feature[1]))"
   ]
  },
  {
   "cell_type": "code",
   "execution_count": 133,
   "metadata": {},
   "outputs": [
    {
     "data": {
      "text/plain": [
       "0   -0.010170\n",
       "1    0.005215\n",
       "2    0.033509\n",
       "3   -0.042693\n",
       "4    0.019243\n",
       "5   -0.073615\n",
       "Name: Lead Age, dtype: float64"
      ]
     },
     "execution_count": 133,
     "metadata": {},
     "output_type": "execute_result"
    }
   ],
   "source": [
    "# Is Lead Age worth keeping?\n",
    "\n",
    "status_offer_dummies = pd.get_dummies(merged_df_importance['Status_offer'])\n",
    "\n",
    "# Merging the dummy variables with 'Lead Age'\n",
    "lead_age_status_offer_df = pd.concat([merged_df_importance['Lead Age'], status_offer_dummies], axis=1)\n",
    "\n",
    "# Calculate the correlation between 'Lead Age' and each 'Status_offer' possible value\n",
    "correlation_matrix = lead_age_status_offer_df.corr()\n",
    "\n",
    "# Extracting the correlations with 'Lead Age'\n",
    "lead_age_correlations = correlation_matrix['Lead Age'].drop('Lead Age')  # Drop the correlation of Lead Age with itself\n",
    "lead_age_correlations\n",
    "\n",
    "# Since there are missing values in this column and correlation is not very significant, I decided to leave this column out"
   ]
  },
  {
   "cell_type": "code",
   "execution_count": 134,
   "metadata": {},
   "outputs": [
    {
     "data": {
      "text/html": [
       "<div>\n",
       "<style scoped>\n",
       "    .dataframe tbody tr th:only-of-type {\n",
       "        vertical-align: middle;\n",
       "    }\n",
       "\n",
       "    .dataframe tbody tr th {\n",
       "        vertical-align: top;\n",
       "    }\n",
       "\n",
       "    .dataframe thead th {\n",
       "        text-align: right;\n",
       "    }\n",
       "</style>\n",
       "<table border=\"1\" class=\"dataframe\">\n",
       "  <thead>\n",
       "    <tr style=\"text-align: right;\">\n",
       "      <th></th>\n",
       "      <th>Loss Reason</th>\n",
       "      <th>Days Offer Close</th>\n",
       "      <th>Discount code</th>\n",
       "      <th>Price</th>\n",
       "      <th>Use Case_offer</th>\n",
       "      <th>Price Category</th>\n",
       "      <th>Days Lead Offer</th>\n",
       "      <th>Pain</th>\n",
       "      <th>Source</th>\n",
       "      <th>Status_offer</th>\n",
       "    </tr>\n",
       "  </thead>\n",
       "  <tbody>\n",
       "    <tr>\n",
       "      <th>0</th>\n",
       "      <td>No Loss</td>\n",
       "      <td>0</td>\n",
       "      <td>SAVEMORE50</td>\n",
       "      <td>300.0</td>\n",
       "      <td>Educational Seminars</td>\n",
       "      <td>low</td>\n",
       "      <td>-1.0</td>\n",
       "      <td>operations</td>\n",
       "      <td>Unknown</td>\n",
       "      <td>Closed Won</td>\n",
       "    </tr>\n",
       "    <tr>\n",
       "      <th>1</th>\n",
       "      <td>price</td>\n",
       "      <td>1</td>\n",
       "      <td>No Discount</td>\n",
       "      <td>150.0</td>\n",
       "      <td>Sports Events</td>\n",
       "      <td>low</td>\n",
       "      <td>-1.0</td>\n",
       "      <td>operations</td>\n",
       "      <td>Unknown</td>\n",
       "      <td>Closed Lost</td>\n",
       "    </tr>\n",
       "    <tr>\n",
       "      <th>2</th>\n",
       "      <td>no response</td>\n",
       "      <td>1</td>\n",
       "      <td>HALFYEAR20G</td>\n",
       "      <td>768.0</td>\n",
       "      <td>Sports Events</td>\n",
       "      <td>mid</td>\n",
       "      <td>-1.0</td>\n",
       "      <td>operations</td>\n",
       "      <td>Unknown</td>\n",
       "      <td>Closed Lost</td>\n",
       "    </tr>\n",
       "    <tr>\n",
       "      <th>3</th>\n",
       "      <td>No Loss</td>\n",
       "      <td>0</td>\n",
       "      <td>DISCOUNT50POWER</td>\n",
       "      <td>240.0</td>\n",
       "      <td>Corporate Events</td>\n",
       "      <td>low</td>\n",
       "      <td>0.0</td>\n",
       "      <td>financial control</td>\n",
       "      <td>Inbound</td>\n",
       "      <td>Closed Won</td>\n",
       "    </tr>\n",
       "    <tr>\n",
       "      <th>4</th>\n",
       "      <td>no response</td>\n",
       "      <td>8</td>\n",
       "      <td>SAVEMONTH50G</td>\n",
       "      <td>240.0</td>\n",
       "      <td>Sports Events</td>\n",
       "      <td>low</td>\n",
       "      <td>-1.0</td>\n",
       "      <td>financial control</td>\n",
       "      <td>Unknown</td>\n",
       "      <td>Closed Lost</td>\n",
       "    </tr>\n",
       "  </tbody>\n",
       "</table>\n",
       "</div>"
      ],
      "text/plain": [
       "   Loss Reason  Days Offer Close    Discount code  Price  \\\n",
       "0      No Loss                 0       SAVEMORE50  300.0   \n",
       "1        price                 1      No Discount  150.0   \n",
       "2  no response                 1      HALFYEAR20G  768.0   \n",
       "3      No Loss                 0  DISCOUNT50POWER  240.0   \n",
       "4  no response                 8     SAVEMONTH50G  240.0   \n",
       "\n",
       "         Use Case_offer Price Category  Days Lead Offer               Pain  \\\n",
       "0  Educational Seminars            low             -1.0         operations   \n",
       "1         Sports Events            low             -1.0         operations   \n",
       "2         Sports Events            mid             -1.0         operations   \n",
       "3      Corporate Events            low              0.0  financial control   \n",
       "4         Sports Events            low             -1.0  financial control   \n",
       "\n",
       "    Source Status_offer  \n",
       "0  Unknown   Closed Won  \n",
       "1  Unknown  Closed Lost  \n",
       "2  Unknown  Closed Lost  \n",
       "3  Inbound   Closed Won  \n",
       "4  Unknown  Closed Lost  "
      ]
     },
     "execution_count": 134,
     "metadata": {},
     "output_type": "execute_result"
    }
   ],
   "source": [
    "# Build final dataset\n",
    "columns = ['Loss Reason', 'Days Offer Close', 'Discount code', 'Price', 'Use Case_offer', 'Price Category', 'Days Lead Offer', 'Pain','Source', 'Status_offer']\n",
    "\n",
    "final_dataset = merged_df[columns]\n",
    "final_dataset.head()"
   ]
  },
  {
   "cell_type": "code",
   "execution_count": 135,
   "metadata": {},
   "outputs": [
    {
     "name": "stdout",
     "output_type": "stream",
     "text": [
      "<class 'pandas.core.frame.DataFrame'>\n",
      "RangeIndex: 6130 entries, 0 to 6129\n",
      "Data columns (total 10 columns):\n",
      " #   Column            Non-Null Count  Dtype   \n",
      "---  ------            --------------  -----   \n",
      " 0   Loss Reason       6130 non-null   object  \n",
      " 1   Days Offer Close  6130 non-null   int64   \n",
      " 2   Discount code     6130 non-null   object  \n",
      " 3   Price             6130 non-null   float64 \n",
      " 4   Use Case_offer    6130 non-null   object  \n",
      " 5   Price Category    6130 non-null   category\n",
      " 6   Days Lead Offer   6130 non-null   float64 \n",
      " 7   Pain              6130 non-null   object  \n",
      " 8   Source            6130 non-null   object  \n",
      " 9   Status_offer      6130 non-null   object  \n",
      "dtypes: category(1), float64(2), int64(1), object(6)\n",
      "memory usage: 437.3+ KB\n"
     ]
    }
   ],
   "source": [
    "final_dataset.info()"
   ]
  },
  {
   "cell_type": "code",
   "execution_count": 136,
   "metadata": {},
   "outputs": [],
   "source": [
    "# Save enriched dataset to csv file\n",
    "final_dataset.to_csv('./Data/enriched_dataset.csv', index=False, header = True)"
   ]
  },
  {
   "cell_type": "code",
   "execution_count": 137,
   "metadata": {},
   "outputs": [
    {
     "data": {
      "text/html": [
       "<div>\n",
       "<style scoped>\n",
       "    .dataframe tbody tr th:only-of-type {\n",
       "        vertical-align: middle;\n",
       "    }\n",
       "\n",
       "    .dataframe tbody tr th {\n",
       "        vertical-align: top;\n",
       "    }\n",
       "\n",
       "    .dataframe thead th {\n",
       "        text-align: right;\n",
       "    }\n",
       "</style>\n",
       "<table border=\"1\" class=\"dataframe\">\n",
       "  <thead>\n",
       "    <tr style=\"text-align: right;\">\n",
       "      <th></th>\n",
       "      <th>Loss Reason</th>\n",
       "      <th>Days Offer Close</th>\n",
       "      <th>Discount code</th>\n",
       "      <th>Price</th>\n",
       "      <th>Use Case_offer</th>\n",
       "      <th>Price Category</th>\n",
       "      <th>Days Lead Offer</th>\n",
       "      <th>Pain</th>\n",
       "      <th>Source</th>\n",
       "      <th>Status_offer</th>\n",
       "    </tr>\n",
       "  </thead>\n",
       "  <tbody>\n",
       "    <tr>\n",
       "      <th>0</th>\n",
       "      <td>No Loss</td>\n",
       "      <td>0</td>\n",
       "      <td>SAVEMORE50</td>\n",
       "      <td>300.0</td>\n",
       "      <td>Educational Seminars</td>\n",
       "      <td>low</td>\n",
       "      <td>-1.0</td>\n",
       "      <td>operations</td>\n",
       "      <td>Unknown</td>\n",
       "      <td>Closed Won</td>\n",
       "    </tr>\n",
       "    <tr>\n",
       "      <th>1</th>\n",
       "      <td>price</td>\n",
       "      <td>1</td>\n",
       "      <td>No Discount</td>\n",
       "      <td>150.0</td>\n",
       "      <td>Sports Events</td>\n",
       "      <td>low</td>\n",
       "      <td>-1.0</td>\n",
       "      <td>operations</td>\n",
       "      <td>Unknown</td>\n",
       "      <td>Closed Lost</td>\n",
       "    </tr>\n",
       "    <tr>\n",
       "      <th>2</th>\n",
       "      <td>no response</td>\n",
       "      <td>1</td>\n",
       "      <td>HALFYEAR20G</td>\n",
       "      <td>768.0</td>\n",
       "      <td>Sports Events</td>\n",
       "      <td>mid</td>\n",
       "      <td>-1.0</td>\n",
       "      <td>operations</td>\n",
       "      <td>Unknown</td>\n",
       "      <td>Closed Lost</td>\n",
       "    </tr>\n",
       "    <tr>\n",
       "      <th>3</th>\n",
       "      <td>No Loss</td>\n",
       "      <td>0</td>\n",
       "      <td>DISCOUNT50POWER</td>\n",
       "      <td>240.0</td>\n",
       "      <td>Corporate Events</td>\n",
       "      <td>low</td>\n",
       "      <td>0.0</td>\n",
       "      <td>financial control</td>\n",
       "      <td>Inbound</td>\n",
       "      <td>Closed Won</td>\n",
       "    </tr>\n",
       "    <tr>\n",
       "      <th>4</th>\n",
       "      <td>no response</td>\n",
       "      <td>8</td>\n",
       "      <td>SAVEMONTH50G</td>\n",
       "      <td>240.0</td>\n",
       "      <td>Sports Events</td>\n",
       "      <td>low</td>\n",
       "      <td>-1.0</td>\n",
       "      <td>financial control</td>\n",
       "      <td>Unknown</td>\n",
       "      <td>Closed Lost</td>\n",
       "    </tr>\n",
       "  </tbody>\n",
       "</table>\n",
       "</div>"
      ],
      "text/plain": [
       "   Loss Reason  Days Offer Close    Discount code  Price  \\\n",
       "0      No Loss                 0       SAVEMORE50  300.0   \n",
       "1        price                 1      No Discount  150.0   \n",
       "2  no response                 1      HALFYEAR20G  768.0   \n",
       "3      No Loss                 0  DISCOUNT50POWER  240.0   \n",
       "4  no response                 8     SAVEMONTH50G  240.0   \n",
       "\n",
       "         Use Case_offer Price Category  Days Lead Offer               Pain  \\\n",
       "0  Educational Seminars            low             -1.0         operations   \n",
       "1         Sports Events            low             -1.0         operations   \n",
       "2         Sports Events            mid             -1.0         operations   \n",
       "3      Corporate Events            low              0.0  financial control   \n",
       "4         Sports Events            low             -1.0  financial control   \n",
       "\n",
       "    Source Status_offer  \n",
       "0  Unknown   Closed Won  \n",
       "1  Unknown  Closed Lost  \n",
       "2  Unknown  Closed Lost  \n",
       "3  Inbound   Closed Won  \n",
       "4  Unknown  Closed Lost  "
      ]
     },
     "execution_count": 137,
     "metadata": {},
     "output_type": "execute_result"
    }
   ],
   "source": [
    "df = pd.read_csv(\"./Data/enriched_dataset.csv\", delimiter=\",\", low_memory=False, index_col=None, parse_dates=True)\n",
    "df.head()"
   ]
  }
 ],
 "metadata": {
  "kernelspec": {
   "display_name": "standard",
   "language": "python",
   "name": "python3"
  },
  "language_info": {
   "codemirror_mode": {
    "name": "ipython",
    "version": 3
   },
   "file_extension": ".py",
   "mimetype": "text/x-python",
   "name": "python",
   "nbconvert_exporter": "python",
   "pygments_lexer": "ipython3",
   "version": "3.9.18"
  }
 },
 "nbformat": 4,
 "nbformat_minor": 2
}
